{
 "cells": [
  {
   "cell_type": "code",
   "execution_count": 2,
   "id": "82402b16",
   "metadata": {},
   "outputs": [],
   "source": [
    "import pandas as pd\n",
    "import seaborn as sns\n",
    "from sklearn.preprocessing import LabelEncoder, OrdinalEncoder, StandardScaler\n",
    "\n",
    "def transforming(columns, df):\n",
    "    for column in columns:\n",
    "        encoder = LabelEncoder()\n",
    "        df[column] = encoder.fit_transform(df[column])\n",
    "\n",
    "\n",
    "df = pd.read_csv(\"bird_migration_data.csv\").drop(columns=[\"Bird_ID\",\"Tagged_By\", \"Tag_Type\", \"Migration_Interrupted\", \"Interrupted_Reason\", \"Migration_Success\", \"Observation_Quality\", \"Tracking_Quality\", \"Recovery_Location_Known\"], axis=1)\n",
    "\n",
    "\n",
    "transforming(columns=[\"Species\", \"Region\", \"Habitat\", \"Weather_Condition\", \"Migration_Reason\", \"Nesting_Success\",\"Migration_Start_Month\", \"Migration_End_Month\", \"Migrated_in_Flock\", \"Food_Supply_Level\"], df=df)"
   ]
  },
  {
   "cell_type": "code",
   "execution_count": null,
   "id": "a226acbb",
   "metadata": {},
   "outputs": [],
   "source": [
    "import tensorflow as tf\n",
    "from tensorflow import keras\n",
    "from tensorflow.keras import regularizers\n",
    "\n",
    "model = keras.Sequential([\n",
    "    keras.layers.Input(shape=(31,)),\n",
    "    keras.layers.Dense(128, activation=\"relu\", kernel_regularizer=regularizers.l2(0.01)),\n",
    "    keras.layers.Dropout(0.3), \n",
    "    keras.layers.Dense(64, activation=\"relu\", kernel_regularizer=regularizers.l2(0.01)),\n",
    "    keras.layers.Dropout(0.3), \n",
    "    keras.layers.Dense(32, activation=\"relu\", kernel_regularizer=regularizers.l2(0.01)),\n",
    "    keras.layers.Dense(1)\n",
    "])"
   ]
  },
  {
   "cell_type": "code",
   "execution_count": 5,
   "id": "de522a39",
   "metadata": {},
   "outputs": [
    {
     "name": "stdout",
     "output_type": "stream",
     "text": [
      "0       1753.79\n",
      "1       3263.05\n",
      "2       2871.65\n",
      "3       2317.38\n",
      "4       3077.38\n",
      "         ...   \n",
      "9995    2357.69\n",
      "9996    2901.75\n",
      "9997    3019.80\n",
      "9998    2663.78\n",
      "9999    2549.41\n",
      "Name: Flight_Distance_km, Length: 10000, dtype: float64\n",
      "Epoch 1/100\n",
      "\u001b[1m400/400\u001b[0m \u001b[32m━━━━━━━━━━━━━━━━━━━━\u001b[0m\u001b[37m\u001b[0m \u001b[1m0s\u001b[0m 514us/step - loss: 341343.4062 - mae: 463.9919 - val_loss: 295898.9062 - val_mae: 433.6316\n",
      "Epoch 2/100\n",
      "\u001b[1m400/400\u001b[0m \u001b[32m━━━━━━━━━━━━━━━━━━━━\u001b[0m\u001b[37m\u001b[0m \u001b[1m0s\u001b[0m 397us/step - loss: 340740.8750 - mae: 466.6474 - val_loss: 293578.4062 - val_mae: 432.2365\n",
      "Epoch 3/100\n",
      "\u001b[1m400/400\u001b[0m \u001b[32m━━━━━━━━━━━━━━━━━━━━\u001b[0m\u001b[37m\u001b[0m \u001b[1m0s\u001b[0m 395us/step - loss: 339842.8438 - mae: 465.0022 - val_loss: 288485.9062 - val_mae: 427.1080\n",
      "Epoch 4/100\n",
      "\u001b[1m400/400\u001b[0m \u001b[32m━━━━━━━━━━━━━━━━━━━━\u001b[0m\u001b[37m\u001b[0m \u001b[1m0s\u001b[0m 392us/step - loss: 332907.9688 - mae: 460.2422 - val_loss: 284219.3125 - val_mae: 424.7097\n",
      "Epoch 5/100\n",
      "\u001b[1m400/400\u001b[0m \u001b[32m━━━━━━━━━━━━━━━━━━━━\u001b[0m\u001b[37m\u001b[0m \u001b[1m0s\u001b[0m 402us/step - loss: 331833.9375 - mae: 460.3097 - val_loss: 285242.8125 - val_mae: 423.2511\n",
      "Epoch 6/100\n",
      "\u001b[1m400/400\u001b[0m \u001b[32m━━━━━━━━━━━━━━━━━━━━\u001b[0m\u001b[37m\u001b[0m \u001b[1m0s\u001b[0m 392us/step - loss: 335434.9688 - mae: 461.5873 - val_loss: 286175.2188 - val_mae: 426.7022\n",
      "Epoch 7/100\n",
      "\u001b[1m400/400\u001b[0m \u001b[32m━━━━━━━━━━━━━━━━━━━━\u001b[0m\u001b[37m\u001b[0m \u001b[1m0s\u001b[0m 393us/step - loss: 325800.7812 - mae: 455.1994 - val_loss: 293410.5938 - val_mae: 432.2235\n",
      "Epoch 8/100\n",
      "\u001b[1m400/400\u001b[0m \u001b[32m━━━━━━━━━━━━━━━━━━━━\u001b[0m\u001b[37m\u001b[0m \u001b[1m0s\u001b[0m 400us/step - loss: 334275.3438 - mae: 463.9835 - val_loss: 285167.1875 - val_mae: 425.3765\n",
      "Epoch 9/100\n",
      "\u001b[1m400/400\u001b[0m \u001b[32m━━━━━━━━━━━━━━━━━━━━\u001b[0m\u001b[37m\u001b[0m \u001b[1m0s\u001b[0m 388us/step - loss: 323896.8125 - mae: 455.3607 - val_loss: 299422.9062 - val_mae: 435.6725\n",
      "Epoch 10/100\n",
      "\u001b[1m400/400\u001b[0m \u001b[32m━━━━━━━━━━━━━━━━━━━━\u001b[0m\u001b[37m\u001b[0m \u001b[1m0s\u001b[0m 396us/step - loss: 318634.4375 - mae: 451.9443 - val_loss: 312111.0000 - val_mae: 446.5916\n",
      "Epoch 11/100\n",
      "\u001b[1m400/400\u001b[0m \u001b[32m━━━━━━━━━━━━━━━━━━━━\u001b[0m\u001b[37m\u001b[0m \u001b[1m0s\u001b[0m 444us/step - loss: 323915.9062 - mae: 456.6902 - val_loss: 290803.1562 - val_mae: 430.4452\n",
      "Epoch 12/100\n",
      "\u001b[1m400/400\u001b[0m \u001b[32m━━━━━━━━━━━━━━━━━━━━\u001b[0m\u001b[37m\u001b[0m \u001b[1m0s\u001b[0m 396us/step - loss: 324628.1250 - mae: 454.2820 - val_loss: 285222.1250 - val_mae: 423.3133\n",
      "Epoch 13/100\n",
      "\u001b[1m400/400\u001b[0m \u001b[32m━━━━━━━━━━━━━━━━━━━━\u001b[0m\u001b[37m\u001b[0m \u001b[1m0s\u001b[0m 393us/step - loss: 319148.1562 - mae: 451.2297 - val_loss: 284852.4375 - val_mae: 424.8945\n",
      "Epoch 14/100\n",
      "\u001b[1m400/400\u001b[0m \u001b[32m━━━━━━━━━━━━━━━━━━━━\u001b[0m\u001b[37m\u001b[0m \u001b[1m0s\u001b[0m 390us/step - loss: 324278.1250 - mae: 451.8424 - val_loss: 273891.7500 - val_mae: 417.1859\n",
      "Epoch 15/100\n",
      "\u001b[1m400/400\u001b[0m \u001b[32m━━━━━━━━━━━━━━━━━━━━\u001b[0m\u001b[37m\u001b[0m \u001b[1m0s\u001b[0m 390us/step - loss: 327256.9375 - mae: 456.5846 - val_loss: 281029.0938 - val_mae: 425.0840\n",
      "Epoch 16/100\n",
      "\u001b[1m400/400\u001b[0m \u001b[32m━━━━━━━━━━━━━━━━━━━━\u001b[0m\u001b[37m\u001b[0m \u001b[1m0s\u001b[0m 397us/step - loss: 324482.0000 - mae: 455.5902 - val_loss: 282840.9375 - val_mae: 425.3592\n",
      "Epoch 17/100\n",
      "\u001b[1m400/400\u001b[0m \u001b[32m━━━━━━━━━━━━━━━━━━━━\u001b[0m\u001b[37m\u001b[0m \u001b[1m0s\u001b[0m 389us/step - loss: 316941.6562 - mae: 448.6214 - val_loss: 281109.0938 - val_mae: 421.6426\n",
      "Epoch 18/100\n",
      "\u001b[1m400/400\u001b[0m \u001b[32m━━━━━━━━━━━━━━━━━━━━\u001b[0m\u001b[37m\u001b[0m \u001b[1m0s\u001b[0m 392us/step - loss: 324973.1875 - mae: 450.1420 - val_loss: 282454.7812 - val_mae: 423.8317\n",
      "Epoch 19/100\n",
      "\u001b[1m400/400\u001b[0m \u001b[32m━━━━━━━━━━━━━━━━━━━━\u001b[0m\u001b[37m\u001b[0m \u001b[1m0s\u001b[0m 393us/step - loss: 326266.7812 - mae: 455.5633 - val_loss: 293057.5000 - val_mae: 431.1180\n",
      "Epoch 20/100\n",
      "\u001b[1m400/400\u001b[0m \u001b[32m━━━━━━━━━━━━━━━━━━━━\u001b[0m\u001b[37m\u001b[0m \u001b[1m0s\u001b[0m 390us/step - loss: 317742.7812 - mae: 448.2098 - val_loss: 277894.0312 - val_mae: 422.1098\n",
      "Epoch 21/100\n",
      "\u001b[1m400/400\u001b[0m \u001b[32m━━━━━━━━━━━━━━━━━━━━\u001b[0m\u001b[37m\u001b[0m \u001b[1m0s\u001b[0m 391us/step - loss: 323024.3125 - mae: 451.3303 - val_loss: 291668.5000 - val_mae: 432.0780\n",
      "Epoch 22/100\n",
      "\u001b[1m400/400\u001b[0m \u001b[32m━━━━━━━━━━━━━━━━━━━━\u001b[0m\u001b[37m\u001b[0m \u001b[1m0s\u001b[0m 389us/step - loss: 310732.6875 - mae: 443.6633 - val_loss: 277703.8125 - val_mae: 419.6797\n",
      "Epoch 23/100\n",
      "\u001b[1m400/400\u001b[0m \u001b[32m━━━━━━━━━━━━━━━━━━━━\u001b[0m\u001b[37m\u001b[0m \u001b[1m0s\u001b[0m 391us/step - loss: 322325.2812 - mae: 453.8597 - val_loss: 280799.1875 - val_mae: 423.0809\n",
      "Epoch 24/100\n",
      "\u001b[1m400/400\u001b[0m \u001b[32m━━━━━━━━━━━━━━━━━━━━\u001b[0m\u001b[37m\u001b[0m \u001b[1m0s\u001b[0m 438us/step - loss: 324063.2188 - mae: 452.5551 - val_loss: 293934.6875 - val_mae: 433.2808\n",
      "Epoch 25/100\n",
      "\u001b[1m400/400\u001b[0m \u001b[32m━━━━━━━━━━━━━━━━━━━━\u001b[0m\u001b[37m\u001b[0m \u001b[1m0s\u001b[0m 391us/step - loss: 320428.8438 - mae: 453.8351 - val_loss: 293325.8750 - val_mae: 432.5077\n",
      "Epoch 26/100\n",
      "\u001b[1m400/400\u001b[0m \u001b[32m━━━━━━━━━━━━━━━━━━━━\u001b[0m\u001b[37m\u001b[0m \u001b[1m0s\u001b[0m 387us/step - loss: 319934.8125 - mae: 452.4600 - val_loss: 285428.9062 - val_mae: 425.6530\n",
      "Epoch 27/100\n",
      "\u001b[1m400/400\u001b[0m \u001b[32m━━━━━━━━━━━━━━━━━━━━\u001b[0m\u001b[37m\u001b[0m \u001b[1m0s\u001b[0m 402us/step - loss: 332438.4375 - mae: 462.8843 - val_loss: 281465.8438 - val_mae: 421.2873\n",
      "Epoch 28/100\n",
      "\u001b[1m400/400\u001b[0m \u001b[32m━━━━━━━━━━━━━━━━━━━━\u001b[0m\u001b[37m\u001b[0m \u001b[1m0s\u001b[0m 387us/step - loss: 324360.9062 - mae: 455.5602 - val_loss: 277677.0938 - val_mae: 419.3996\n",
      "Epoch 29/100\n",
      "\u001b[1m400/400\u001b[0m \u001b[32m━━━━━━━━━━━━━━━━━━━━\u001b[0m\u001b[37m\u001b[0m \u001b[1m0s\u001b[0m 390us/step - loss: 315856.6875 - mae: 448.6858 - val_loss: 281611.1875 - val_mae: 422.7277\n"
     ]
    },
    {
     "data": {
      "text/plain": [
       "<keras.src.callbacks.history.History at 0x308b7ec60>"
      ]
     },
     "execution_count": 5,
     "metadata": {},
     "output_type": "execute_result"
    }
   ],
   "source": [
    "from sklearn.model_selection import train_test_split\n",
    "from tensorflow.keras.callbacks import EarlyStopping # type: ignore\n",
    "\n",
    "\n",
    "X = df.drop([\"Flight_Distance_km\"], axis=1)\n",
    "\n",
    "scaler = StandardScaler()\n",
    "numeric_cols = X.select_dtypes(include=['float64', 'int64']).columns\n",
    "X[numeric_cols] = scaler.fit_transform(X[numeric_cols])\n",
    "\n",
    "y = df[\"Flight_Distance_km\"]\n",
    "print(y)\n",
    "X_train, X_test, y_train, y_test = train_test_split(X, y, test_size=0.2, random_state=42)\n",
    "\n",
    "early_stopping = EarlyStopping(monitor=\"val_loss\", patience=15, restore_best_weights=True)\n",
    "optimizer = keras.optimizers.Adam(learning_rate=0.005)\n",
    "model.compile(optimizer = optimizer, loss = \"mse\", metrics=[\"mae\"])\n",
    "model.fit(X_train, y_train, epochs=100, validation_data=(X_test, y_test), batch_size=20, callbacks=[early_stopping])"
   ]
  }
 ],
 "metadata": {
  "kernelspec": {
   "display_name": "Python 3",
   "language": "python",
   "name": "python3"
  },
  "language_info": {
   "codemirror_mode": {
    "name": "ipython",
    "version": 3
   },
   "file_extension": ".py",
   "mimetype": "text/x-python",
   "name": "python",
   "nbconvert_exporter": "python",
   "pygments_lexer": "ipython3",
   "version": "3.12.9"
  }
 },
 "nbformat": 4,
 "nbformat_minor": 5
}
